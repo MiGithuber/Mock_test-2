{
 "cells": [
  {
   "cell_type": "code",
   "execution_count": 2,
   "id": "e3b07d8a-186b-42ea-a010-0b808b084ce2",
   "metadata": {},
   "outputs": [
    {
     "name": "stdout",
     "output_type": "stream",
     "text": [
      "[2, 4, 6, 8, 10]\n"
     ]
    }
   ],
   "source": [
    "#17)\n",
    "def get_even_numbers(input_list):\n",
    "    return [num for num in input_list if num % 2 == 0]\n",
    "\n",
    "#Driver's code:\n",
    "input_list = [1, 2, 3, 4, 5, 6, 7, 8, 9, 10]\n",
    "output_list = get_even_numbers(input_list)\n",
    "print(output_list)\n"
   ]
  },
  {
   "cell_type": "code",
   "execution_count": 18,
   "id": "8d53d7a5-8581-4483-9138-8dd46ad7edc1",
   "metadata": {},
   "outputs": [
    {
     "name": "stdout",
     "output_type": "stream",
     "text": [
      "100\n",
      "Mean: 20.0\n"
     ]
    }
   ],
   "source": [
    "#19)\n",
    "\n",
    "def calculate_mean(numbers):\n",
    "    sum=0\n",
    "    for i in numbers:\n",
    "        sum = i+sum\n",
    "    print(sum)\n",
    "    count=len(numbers)\n",
    "    mean=sum/count\n",
    "    return mean\n",
    "\n",
    "#Driver's code:\n",
    "numbers = [10, 15, 20, 25, 30]\n",
    "mean = calculate_mean(numbers)\n",
    "print(\"Mean:\", mean)\n"
   ]
  },
  {
   "cell_type": "code",
   "execution_count": null,
   "id": "030b11e2-25f2-4357-9fcb-4c285434ebd4",
   "metadata": {},
   "outputs": [],
   "source": []
  }
 ],
 "metadata": {
  "kernelspec": {
   "display_name": "Python 3 (ipykernel)",
   "language": "python",
   "name": "python3"
  },
  "language_info": {
   "codemirror_mode": {
    "name": "ipython",
    "version": 3
   },
   "file_extension": ".py",
   "mimetype": "text/x-python",
   "name": "python",
   "nbconvert_exporter": "python",
   "pygments_lexer": "ipython3",
   "version": "3.10.8"
  }
 },
 "nbformat": 4,
 "nbformat_minor": 5
}
